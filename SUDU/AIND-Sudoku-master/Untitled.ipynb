{
 "cells": [
  {
   "cell_type": "code",
   "execution_count": null,
   "metadata": {},
   "outputs": [],
   "source": [
    "   \"Using depth-first search and propagation, create a search tree and solve the sudoku.\"\n",
    "    # First, reduce the puzzle using the previous function\n",
    "    result = reduce_puzzle(values)\n",
    "    ##无解\n",
    "    if(result == False):\n",
    "        return False\n",
    "    ##成功\n",
    "    if(all(len(values[item])==1 for item in values)):\n",
    "        return values\n",
    "        \n",
    "    # Choose one of the unfilled squares with the fewest possibilities\n",
    "    lenofKay,key = min((len(values[item]),item) for item in values if len(values[item]) > 1)\n",
    "    # Now use recursion to solve each one of the resulting sudokus, and if one returns a value (not False), return that answer!\n",
    "    for item in result[key]:\n",
    "        newPuzzle = result.copy()\n",
    "        newPuzzle[key] = item\n",
    "        finalResult = search(newPuzzle)\n",
    "            \n",
    "        if(finalResult):\n",
    "            return finalResult\n",
    "    # If you're stuck, see the solution.py tab!"
   ]
  }
 ],
 "metadata": {
  "kernelspec": {
   "display_name": "Python 3",
   "language": "python",
   "name": "python3"
  },
  "language_info": {
   "codemirror_mode": {
    "name": "ipython",
    "version": 3
   },
   "file_extension": ".py",
   "mimetype": "text/x-python",
   "name": "python",
   "nbconvert_exporter": "python",
   "pygments_lexer": "ipython3",
   "version": "3.6.4"
  }
 },
 "nbformat": 4,
 "nbformat_minor": 2
}
