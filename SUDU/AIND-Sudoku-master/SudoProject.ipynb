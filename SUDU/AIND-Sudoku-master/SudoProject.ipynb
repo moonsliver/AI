{
 "cells": [
  {
   "cell_type": "code",
   "execution_count": 84,
   "metadata": {},
   "outputs": [
    {
     "name": "stdout",
     "output_type": "stream",
     "text": [
      "    4     123456789 123456789 |123456789 123456789 123456789 |    8     123456789     5     \n",
      "123456789     3     123456789 |123456789 123456789 123456789 |123456789 123456789 123456789 \n",
      "123456789 123456789 123456789 |    7     123456789 123456789 |123456789 123456789 123456789 \n",
      "------------------------------+------------------------------+------------------------------\n",
      "123456789     2     123456789 |123456789 123456789 123456789 |123456789     6     123456789 \n",
      "123456789 123456789 123456789 |123456789     8     123456789 |    4     123456789 123456789 \n",
      "123456789 123456789 123456789 |123456789     1     123456789 |123456789 123456789 123456789 \n",
      "------------------------------+------------------------------+------------------------------\n",
      "123456789 123456789 123456789 |    6     123456789     3     |123456789     7     123456789 \n",
      "    5     123456789 123456789 |    2     123456789 123456789 |123456789 123456789 123456789 \n",
      "    1     123456789     4     |123456789 123456789 123456789 |123456789 123456789 123456789 \n",
      "\n"
     ]
    },
    {
     "ename": "TypeError",
     "evalue": "'bool' object is not subscriptable",
     "output_type": "error",
     "traceback": [
      "\u001b[1;31m---------------------------------------------------------------------------\u001b[0m",
      "\u001b[1;31mTypeError\u001b[0m                                 Traceback (most recent call last)",
      "\u001b[1;32m<ipython-input-84-2b64b7733a92>\u001b[0m in \u001b[0;36m<module>\u001b[1;34m()\u001b[0m\n\u001b[0;32m    203\u001b[0m    \u001b[1;31m# result = only_choice(eliminate(values))\u001b[0m\u001b[1;33m\u001b[0m\u001b[1;33m\u001b[0m\u001b[0m\n\u001b[0;32m    204\u001b[0m     \u001b[1;31m#result = solve(diag_sudoku_grid)\u001b[0m\u001b[1;33m\u001b[0m\u001b[1;33m\u001b[0m\u001b[0m\n\u001b[1;32m--> 205\u001b[1;33m     \u001b[0mdisplay\u001b[0m\u001b[1;33m(\u001b[0m\u001b[0mresult\u001b[0m\u001b[1;33m)\u001b[0m\u001b[1;33m\u001b[0m\u001b[0m\n\u001b[0m\u001b[0;32m    206\u001b[0m \u001b[1;33m\u001b[0m\u001b[0m\n\u001b[0;32m    207\u001b[0m     \u001b[1;32mtry\u001b[0m\u001b[1;33m:\u001b[0m\u001b[1;33m\u001b[0m\u001b[0m\n",
      "\u001b[1;32mC:\\Study\\AI\\SUDU\\AIND-Sudoku-master\\utils.py\u001b[0m in \u001b[0;36mdisplay\u001b[1;34m(values)\u001b[0m\n\u001b[0;32m    152\u001b[0m         \u001b[0mvalues\u001b[0m\u001b[1;33m(\u001b[0m\u001b[0mdict\u001b[0m\u001b[1;33m)\u001b[0m\u001b[1;33m:\u001b[0m \u001b[0mThe\u001b[0m \u001b[0msudoku\u001b[0m \u001b[1;32min\u001b[0m \u001b[0mdictionary\u001b[0m \u001b[0mform\u001b[0m\u001b[1;33m\u001b[0m\u001b[0m\n\u001b[0;32m    153\u001b[0m     \"\"\"\n\u001b[1;32m--> 154\u001b[1;33m     \u001b[0mwidth\u001b[0m \u001b[1;33m=\u001b[0m \u001b[1;36m1\u001b[0m\u001b[1;33m+\u001b[0m\u001b[0mmax\u001b[0m\u001b[1;33m(\u001b[0m\u001b[0mlen\u001b[0m\u001b[1;33m(\u001b[0m\u001b[0mvalues\u001b[0m\u001b[1;33m[\u001b[0m\u001b[0ms\u001b[0m\u001b[1;33m]\u001b[0m\u001b[1;33m)\u001b[0m \u001b[1;32mfor\u001b[0m \u001b[0ms\u001b[0m \u001b[1;32min\u001b[0m \u001b[0mboxes\u001b[0m\u001b[1;33m)\u001b[0m\u001b[1;33m\u001b[0m\u001b[0m\n\u001b[0m\u001b[0;32m    155\u001b[0m     \u001b[0mline\u001b[0m \u001b[1;33m=\u001b[0m \u001b[1;34m'+'\u001b[0m\u001b[1;33m.\u001b[0m\u001b[0mjoin\u001b[0m\u001b[1;33m(\u001b[0m\u001b[1;33m[\u001b[0m\u001b[1;34m'-'\u001b[0m\u001b[1;33m*\u001b[0m\u001b[1;33m(\u001b[0m\u001b[0mwidth\u001b[0m\u001b[1;33m*\u001b[0m\u001b[1;36m3\u001b[0m\u001b[1;33m)\u001b[0m\u001b[1;33m]\u001b[0m\u001b[1;33m*\u001b[0m\u001b[1;36m3\u001b[0m\u001b[1;33m)\u001b[0m\u001b[1;33m\u001b[0m\u001b[0m\n\u001b[0;32m    156\u001b[0m     \u001b[1;32mfor\u001b[0m \u001b[0mr\u001b[0m \u001b[1;32min\u001b[0m \u001b[0mrows\u001b[0m\u001b[1;33m:\u001b[0m\u001b[1;33m\u001b[0m\u001b[0m\n",
      "\u001b[1;32mC:\\Study\\AI\\SUDU\\AIND-Sudoku-master\\utils.py\u001b[0m in \u001b[0;36m<genexpr>\u001b[1;34m(.0)\u001b[0m\n\u001b[0;32m    152\u001b[0m         \u001b[0mvalues\u001b[0m\u001b[1;33m(\u001b[0m\u001b[0mdict\u001b[0m\u001b[1;33m)\u001b[0m\u001b[1;33m:\u001b[0m \u001b[0mThe\u001b[0m \u001b[0msudoku\u001b[0m \u001b[1;32min\u001b[0m \u001b[0mdictionary\u001b[0m \u001b[0mform\u001b[0m\u001b[1;33m\u001b[0m\u001b[0m\n\u001b[0;32m    153\u001b[0m     \"\"\"\n\u001b[1;32m--> 154\u001b[1;33m     \u001b[0mwidth\u001b[0m \u001b[1;33m=\u001b[0m \u001b[1;36m1\u001b[0m\u001b[1;33m+\u001b[0m\u001b[0mmax\u001b[0m\u001b[1;33m(\u001b[0m\u001b[0mlen\u001b[0m\u001b[1;33m(\u001b[0m\u001b[0mvalues\u001b[0m\u001b[1;33m[\u001b[0m\u001b[0ms\u001b[0m\u001b[1;33m]\u001b[0m\u001b[1;33m)\u001b[0m \u001b[1;32mfor\u001b[0m \u001b[0ms\u001b[0m \u001b[1;32min\u001b[0m \u001b[0mboxes\u001b[0m\u001b[1;33m)\u001b[0m\u001b[1;33m\u001b[0m\u001b[0m\n\u001b[0m\u001b[0;32m    155\u001b[0m     \u001b[0mline\u001b[0m \u001b[1;33m=\u001b[0m \u001b[1;34m'+'\u001b[0m\u001b[1;33m.\u001b[0m\u001b[0mjoin\u001b[0m\u001b[1;33m(\u001b[0m\u001b[1;33m[\u001b[0m\u001b[1;34m'-'\u001b[0m\u001b[1;33m*\u001b[0m\u001b[1;33m(\u001b[0m\u001b[0mwidth\u001b[0m\u001b[1;33m*\u001b[0m\u001b[1;36m3\u001b[0m\u001b[1;33m)\u001b[0m\u001b[1;33m]\u001b[0m\u001b[1;33m*\u001b[0m\u001b[1;36m3\u001b[0m\u001b[1;33m)\u001b[0m\u001b[1;33m\u001b[0m\u001b[0m\n\u001b[0;32m    156\u001b[0m     \u001b[1;32mfor\u001b[0m \u001b[0mr\u001b[0m \u001b[1;32min\u001b[0m \u001b[0mrows\u001b[0m\u001b[1;33m:\u001b[0m\u001b[1;33m\u001b[0m\u001b[0m\n",
      "\u001b[1;31mTypeError\u001b[0m: 'bool' object is not subscriptable"
     ]
    }
   ],
   "source": [
    "from utils import *\n",
    "\n",
    "\n",
    "row_units = [cross(r, cols) for r in rows]\n",
    "column_units = [cross(rows, c) for c in cols]\n",
    "square_units = [cross(rs, cs) for rs in ('ABC','DEF','GHI') for cs in ('123','456','789')]\n",
    "unitlist = row_units + column_units + square_units\n",
    "\n",
    "# TODO: Update the unit list to add the new diagonal units\n",
    "diagonal_units = [[rows[index]+cols[index] for index in range(len(rows))],\\\n",
    "                  [rows[index]+cols[len(rows)-index-1] for index in range(len(rows))]]\n",
    "unitlist = unitlist + diagonal_units\n",
    "\n",
    "\n",
    "# Must be called after all units (including diagonals) are added to the unitlist\n",
    "units = extract_units(unitlist, boxes)\n",
    "peers = extract_peers(units, boxes)\n",
    "\n",
    "# to set every cell with value\n",
    "def grid_values(value):\n",
    "    if len(value) != 81:\n",
    "        raise Exception(\"The value input which length is not 81\",\"\")\n",
    "        return \n",
    "    \n",
    "    return dict(zip(boxes,value))\n",
    "\n",
    "\n",
    "def naked_twins(values):\n",
    "    \"\"\"Eliminate values using the naked twins strategy.\n",
    "\n",
    "    Parameters\n",
    "    ----------\n",
    "    values(dict)\n",
    "        a dictionary of the form {'box_name': '123456789', ...}\n",
    "\n",
    "    Returns\n",
    "    -------\n",
    "    dict\n",
    "        The values dictionary with the naked twins eliminated from peers\n",
    "\n",
    "    Notes\n",
    "    -----\n",
    "    Your solution can either process all pairs of naked twins from the input once,\n",
    "    or it can continue processing pairs of naked twins until there are no such\n",
    "    pairs remaining -- the project assistant test suite will accept either\n",
    "    convention. However, it will not accept code that does not process all pairs\n",
    "    of naked twins from the original input. (For example, if you start processing\n",
    "    pairs of twins and eliminate another pair of twins before the second pair\n",
    "    is processed then your code will fail the PA test suite.)\n",
    "\n",
    "    The first convention is preferred for consistency with the other strategies,\n",
    "    and because it is simpler (since the reduce_puzzle function already calls this\n",
    "    strategy repeatedly).\n",
    "    \"\"\"\n",
    "    # TODO: Implement this function!\n",
    "    raise NotImplementedError\n",
    "\n",
    "\n",
    "def eliminate(values):\n",
    "    # TODO: Copy your code from the classroom to complete this function\n",
    "    tmpGrid = values.copy()\n",
    "    for (k,v) in values.items():\n",
    "        if(len(v) > 1):\n",
    "            continue\n",
    "            \n",
    "        for item in peers[k]:\n",
    "            tmpGrid[item] = tmpGrid[item].replace(v,'')\n",
    "    return tmpGrid\n",
    "\n",
    "\n",
    "def only_choice(values):\n",
    "    # TODO: Copy your code from the classroom to complete this function\n",
    "    \n",
    "    digits = '123456789'\n",
    "    tmpGrid = values.copy()\n",
    "    for unit in unitlist:\n",
    "        for digit in digits:        \n",
    "            totalDigitInBoxs = [box for box in unit if digit in values[box]]\n",
    "            if(len(totalDigitInBoxs)!=1):\n",
    "                continue;\n",
    "                tmpGrid[totalDigitInBoxs[0]] = digit\n",
    "        return tmpGrid\n",
    "\n",
    "\n",
    "\n",
    "def reduce_puzzle(values):\n",
    "    \"\"\"Reduce a Sudoku puzzle by repeatedly applying all constraint strategies\n",
    "\n",
    "    Parameters\n",
    "    ----------\n",
    "    values(dict)\n",
    "        a dictionary of the form {'box_name': '123456789', ...}\n",
    "\n",
    "    Returns\n",
    "    -------\n",
    "    dict or False\n",
    "        The values dictionary after continued application of the constraint strategies\n",
    "        no longer produces any changes, or False if the puzzle is unsolvable \n",
    "    \"\"\"\n",
    "    # TODO: Copy your code from the classroom and modify it to complete this function\n",
    "    '''\n",
    "    stop = False\n",
    "    \n",
    "    finalValues = {}\n",
    "    while not stop:\n",
    "        valueAfter = only_choice(eliminate(values))\n",
    "        if len([box for box in valueAfter.keys() if len(valueAfter[box]) == 0]):\n",
    "            return False\n",
    "\n",
    "        if(valueAfter != finalValues):\n",
    "            finalValues = valueAfter\n",
    "        else:\n",
    "            stop = True\n",
    "            \n",
    "    return finalValues\n",
    "    '''\n",
    "    stalled = False\n",
    "    while not stalled:\n",
    "        # Check how many boxes have a determined value\n",
    "        solved_values_before = len([box for box in values.keys() if len(values[box]) == 1])\n",
    "\n",
    "        # Your code here: Use the Eliminate Strategy\n",
    "        values = eliminate(values)\n",
    "\n",
    "        # Your code here: Use the Only Choice Strategy\n",
    "        values = only_choice(values)\n",
    "\n",
    "        # Check how many boxes have a determined value, to compare\n",
    "        solved_values_after = len([box for box in values.keys() if len(values[box]) == 1])\n",
    "        # If no new values were added, stop the loop.\n",
    "        stalled = solved_values_before == solved_values_after\n",
    "        # Sanity check, return False if there is a box with zero available values:\n",
    "        if len([box for box in values.keys() if len(values[box]) == 0]):\n",
    "            return False\n",
    "    return values\n",
    "\n",
    "def search(values):\n",
    "    \"\"\"Apply depth first search to solve Sudoku puzzles in order to solve puzzles\n",
    "    that cannot be solved by repeated reduction alone.\n",
    "\n",
    "    Parameters\n",
    "    ----------\n",
    "    values(dict)\n",
    "        a dictionary of the form {'box_name': '123456789', ...}\n",
    "\n",
    "    Returns\n",
    "    -------\n",
    "    dict or False\n",
    "        The values dictionary with all boxes assigned or False\n",
    "\n",
    "    Notes\n",
    "    -----\n",
    "    You should be able to complete this function by copying your code from the classroom\n",
    "    and extending it to call the naked twins strategy.\n",
    "    \"\"\"\n",
    "    # TODO: Copy your code from the classroom to complete this function\n",
    "    values = reduce_puzzle(values)\n",
    "    \n",
    "    if(values == False):\n",
    "        return False\n",
    "\n",
    "    if (len([box for box in values if len(values[box])==1]) == 81):\n",
    "        return values\n",
    "    \n",
    "    #get the box and assign the value\n",
    "    boxLen, box = min([(len(values[box]),box) for box in values if(len(values[box])>1)])\n",
    "    for num in values[box]:\n",
    "        tmpValues = values.copy()\n",
    "        tmpValues[box] = num\n",
    "        result = search(tmpValues)\n",
    "        \n",
    "        if(result):\n",
    "            return result\n",
    "    \n",
    "\n",
    "\n",
    "def solve(grid):\n",
    "    \"\"\"Find the solution to a Sudoku puzzle using search and constraint propagation\n",
    "\n",
    "    Parameters\n",
    "    ----------\n",
    "    grid(string)\n",
    "        a string representing a sudoku grid.\n",
    "        \n",
    "        Ex. '2.............62....1....7...6..8...3...9...7...6..4...4....8....52.............3'\n",
    "\n",
    "    Returns\n",
    "    -------\n",
    "    dict or False\n",
    "        The dictionary representation of the final sudoku grid or False if no solution exists.\n",
    "    \"\"\"\n",
    "    values = grid2values(grid)\n",
    "    values = search(values)\n",
    "    return values\n",
    "\n",
    "\n",
    "if __name__ == \"__main__\":\n",
    "    #diag_sudoku_grid = '2.............62....1....7...6..8...3...9...7...6..4...4....8....52.............3'\n",
    "    diag_sudoku_grid = '4.....8.5.3..........7......2.....6.....8.4......1.......6.3.7.5..2.....1.4......'\n",
    "    display(grid2values(diag_sudoku_grid))\n",
    "    values = grid2values(diag_sudoku_grid)\n",
    "    result = search(values)\n",
    "    \n",
    "    \n",
    "   # result = only_choice(eliminate(values))\n",
    "    #result = solve(diag_sudoku_grid)\n",
    "    display(result)\n",
    "\n",
    "    try:\n",
    "        import PySudoku\n",
    "        PySudoku.play(grid2values(diag_sudoku_grid), result, history)\n",
    "\n",
    "    except SystemExit:\n",
    "        pass\n",
    "    except:\n",
    "        print('We could not visualize your board due to a pygame issue. Not a problem! It is not a requirement.')\n"
   ]
  },
  {
   "cell_type": "code",
   "execution_count": 45,
   "metadata": {},
   "outputs": [
    {
     "name": "stdout",
     "output_type": "stream",
     "text": [
      "   4      1679   12679  |  139     2369    1269  |   8      1239     5    \n",
      " 26789     3    1256789 | 14589   24569  1245689 | 12679    249    124679 \n",
      "  2689   15689   12569  |   7     234569 1245689 |  2369   12349   123469 \n",
      "------------------------+------------------------+------------------------\n",
      "  3789     2     135789 |   59    34579    479   | 13579     6     13789  \n",
      "  3679   15679   135679 |  359      8     25679  |   4     12359   12379  \n",
      " 36789     4     356789 |  349      1       7    | 23579   23589   23789  \n",
      "------------------------+------------------------+------------------------\n",
      "  289      89      29   |   6      459      3    |  1259     7     12489  \n",
      "   5      679      3    |   2      479      1    |  1369     19    134689 \n",
      "   1      6789     4    |  589     579     5789  | 23569   23589    269   \n",
      "\n"
     ]
    }
   ],
   "source": [
    "display(result)"
   ]
  },
  {
   "cell_type": "code",
   "execution_count": 51,
   "metadata": {},
   "outputs": [],
   "source": [
    "boxLen, box = min([(len(result[box]),box) for box in result if(len(result[box])>1)])"
   ]
  },
  {
   "cell_type": "code",
   "execution_count": 52,
   "metadata": {},
   "outputs": [
    {
     "data": {
      "text/plain": [
       "'D4'"
      ]
     },
     "execution_count": 52,
     "metadata": {},
     "output_type": "execute_result"
    }
   ],
   "source": [
    "box"
   ]
  },
  {
   "cell_type": "code",
   "execution_count": 53,
   "metadata": {},
   "outputs": [
    {
     "data": {
      "text/plain": [
       "2"
      ]
     },
     "execution_count": 53,
     "metadata": {},
     "output_type": "execute_result"
    }
   ],
   "source": [
    "boxLen"
   ]
  },
  {
   "cell_type": "code",
   "execution_count": 55,
   "metadata": {},
   "outputs": [
    {
     "data": {
      "text/plain": [
       "'5'"
      ]
     },
     "execution_count": 55,
     "metadata": {},
     "output_type": "execute_result"
    }
   ],
   "source": [
    "result['D4'][0]"
   ]
  },
  {
   "cell_type": "code",
   "execution_count": null,
   "metadata": {},
   "outputs": [],
   "source": []
  }
 ],
 "metadata": {
  "kernelspec": {
   "display_name": "Python 3",
   "language": "python",
   "name": "python3"
  },
  "language_info": {
   "codemirror_mode": {
    "name": "ipython",
    "version": 3
   },
   "file_extension": ".py",
   "mimetype": "text/x-python",
   "name": "python",
   "nbconvert_exporter": "python",
   "pygments_lexer": "ipython3",
   "version": "3.6.4"
  }
 },
 "nbformat": 4,
 "nbformat_minor": 2
}
