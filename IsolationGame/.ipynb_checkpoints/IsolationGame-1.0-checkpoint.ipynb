{
 "cells": [
  {
   "cell_type": "code",
   "execution_count": 3,
   "metadata": {},
   "outputs": [],
   "source": [
    "from copy import deepcopy\n",
    "class GameState:\n",
    "    def __init__(self):\n",
    "        # TODO: Copy your implementation from the previous quiz \n",
    "        self.xLen = 10\n",
    "        self.yLen = 10\n",
    "        xNumbers = [number for number in range(self.xLen)]\n",
    "        yNumbers = [number for number in range(self.yLen)]\n",
    "        self.active = {\"O\":[], \"X\":[]} #to keep the move for each player and last item of each is the last move\n",
    "        self.whetherPlay1Turn = True\n",
    "        self.board = [(x,y) for x in xNumbers for y in yNumbers] #full board\n",
    "        self.board.pop(-1)\n",
    "        self.hasBeenTaken = [] #to mark the cell that O has been taken\n",
    "\n",
    "    def get_legal_moves(self):\n",
    "        \"\"\" Return a list of all legal moves available to the\n",
    "        active player.  Each player should get a list of all\n",
    "        empty spaces on the board on their first move, and\n",
    "        otherwise they should get a list of all open spaces\n",
    "        in a straight line along any row, column or diagonal\n",
    "        from their current position. (Players CANNOT move\n",
    "        through obstacles or blocked squares.) Moves should\n",
    "        be a pair of integers in (column, row) order specifying\n",
    "        the zero-indexed coordinates on the board.\n",
    "        \"\"\"\n",
    "        # TODO: implement this function!\n",
    "        if(self.hasBeenTaken==[]):\n",
    "            return self.board\n",
    "        \n",
    "        if(len(self.hasBeenTaken)==1):\n",
    "            return [box for box in self.board if box not in self.hasBeenTaken]\n",
    "        \n",
    "        referMove = None\n",
    "        if(self.whetherPlay1Turn == True):\n",
    "            referMove = self.active[\"O\"][-1]\n",
    "        elif(self.whetherPlay1Turn == False):\n",
    "            referMove = self.active[\"X\"][-1]\n",
    "            \n",
    "        if(referMove is None):\n",
    "            print(\"can not find refer move when next move is \",self.whetherPlay1Turn)\n",
    "            raise Exception()\n",
    "        \n",
    "        x = referMove[0]\n",
    "        y = referMove[1]\n",
    "        \n",
    "\n",
    "        \n",
    "        validFullBoxes = [box for box in self.board if (box[0] == x) or (box[1] == y) \\\n",
    "                    or (box[0]-x == box[1]-y) \\\n",
    "                    or (box[0]-x == (box[1]-y)*-1)]\n",
    "        finalValidBoxes = []\n",
    "        \n",
    "        validRowBoxes_Left = [box for box in self.board if box[1] == y and box[0] < x]\n",
    "        validRowBoxes_Right = [box for box in self.board if box[1] == y and box[0] > x]\n",
    "        validColBoxes_Above = [box for box in self.board if box[0] == x and box[1] < y]\n",
    "        validColBoxes_Buttom = [box for box in self.board if box[0] == x and box[1] > y]\n",
    "        valieAngleBoxes_TopLeft = [box for box in self.board if (box[0] - x == box[1] - y) \\\n",
    "                                       and (box[0]<x and box[1]<y)]\n",
    "        valieAngleBoxes_ButtomRight = [box for box in self.board if (box[0] - x == box[1] - y) \\\n",
    "                                       and (box[0]>x and box[1]>y)]\n",
    "        valieAngleBoxes_ButtomLeft = [box for box in self.board if (box[0] - x == (box[1] - y)*-1) \\\n",
    "                                       and (box[0]<x and box[1]>y)]\n",
    "        valieAngleBoxes_TopRight = [box for box in self.board if (box[0] - x == (box[1] - y)*-1) \\\n",
    "                                       and (box[0]>x and box[1]<y)]\n",
    "        \n",
    "        \n",
    "        \n",
    "        blockRowBoxes_Left = [box for box in self.hasBeenTaken if box[1] == y and box[0] < x]\n",
    "        if(len(blockRowBoxes_Left)>=1):\n",
    "            finalValidBoxes += [box for box in validRowBoxes_Left if box > max(blockRowBoxes_Left)]\n",
    "        else:\n",
    "            finalValidBoxes += validRowBoxes_Left\n",
    "  \n",
    "        blockRowBoxes_Right = [box for box in self.hasBeenTaken if box[1] == y and box[0] > x]\n",
    "        if(len(blockRowBoxes_Right)>=1):\n",
    "            finalValidBoxes += [box for box in validRowBoxes_Right if box < min(blockRowBoxes_Right)]\n",
    "        else:\n",
    "            finalValidBoxes += validRowBoxes_Right\n",
    "\n",
    "        blockColBoxes_Above = [box for box in self.hasBeenTaken if box[0] == x and box[1] < y]\n",
    "        if(len(blockColBoxes_Above)>=1):\n",
    "            finalValidBoxes += [box for box in validColBoxes_Above if box > max(blockColBoxes_Above)]\n",
    "        else:\n",
    "            finalValidBoxes += validColBoxes_Above\n",
    "            \n",
    "        \n",
    "        blockColBoxes_Buttom = [box for box in self.hasBeenTaken if box[0] == x and box[1] > y]\n",
    "        if(len(blockColBoxes_Buttom)>=1):\n",
    "            finalValidBoxes += [box for box in validColBoxes_Buttom if box < min(blockColBoxes_Buttom)]\n",
    "        else:\n",
    "            finalValidBoxes += validColBoxes_Buttom\n",
    "        \n",
    "        blockAngleBoxes_TopLeft = [box for box in self.hasBeenTaken if (box[0] - x == box[1] - y) \\\n",
    "                                       and (box[0]<x and box[1]<y)]\n",
    "        if(len(blockAngleBoxes_TopLeft)>=1):\n",
    "            finalValidBoxes += [box for box in valieAngleBoxes_TopLeft if box > max(blockAngleBoxes_TopLeft)]\n",
    "        else:\n",
    "            finalValidBoxes += valieAngleBoxes_TopLeft\n",
    "            \n",
    "        blockAngleBoxes_ButtomRigh = [box for box in self.hasBeenTaken if (box[0] - x == box[1] - y) \\\n",
    "                                       and (box[0]>x and box[1]>y)]\n",
    "   \n",
    "        if(len(blockAngleBoxes_ButtomRigh)>=1):\n",
    "            finalValidBoxes += [box for box in valieAngleBoxes_ButtomRight if box < min(blockAngleBoxes_ButtomRigh)]\n",
    "        else:\n",
    "            finalValidBoxes += valieAngleBoxes_ButtomRight\n",
    "            \n",
    "            \n",
    "        blockAngleBoxes_ButtomLeft = [box for box in self.hasBeenTaken if (box[0] - x == (box[1] - y)*-1) \\\n",
    "                                       and (box[0]<x and box[1]>y)]\n",
    "        if(len(blockAngleBoxes_ButtomLeft)>=1):\n",
    "            finalValidBoxes += [box for box in valieAngleBoxes_ButtomLeft if box > max(blockAngleBoxes_ButtomLeft)]\n",
    "        else:\n",
    "            finalValidBoxes += valieAngleBoxes_ButtomLeft\n",
    "        \n",
    "        \n",
    "        blockAngleBoxes_TopRight = [box for box in self.hasBeenTaken if (box[0] - x == (box[1] - y)*-1) \\\n",
    "                                       and (box[0]>x and box[1]<y)]\n",
    "        if(len(blockAngleBoxes_TopRight)>=1):\n",
    "            finalValidBoxes += [box for box in valieAngleBoxes_TopRight if box < min(blockAngleBoxes_TopRight)] \n",
    "        else:\n",
    "            finalValidBoxes += blockAngleBoxes_TopRight\n",
    "        \n",
    "        return finalValidBoxes\n",
    " \n",
    "    def forecast_move(self, move):\n",
    "        \"\"\" Return a new board object with the specified move\n",
    "        applied to the current game state.\n",
    "        \n",
    "        Parameters\n",
    "        ----------\n",
    "        move: tuple\n",
    "            The target position for the active player's next move\n",
    "            (e.g., (0, 0) if the active player will move to the\n",
    "            top-left corner of the board)\n",
    "        \"\"\"\n",
    "        # TODO: implement this function!\n",
    "        if(move in self.hasBeenTaken):\n",
    "            raise RuntimeError(\"this move has been taken\")\n",
    "        \n",
    "        if(move not in self.get_legal_moves()):\n",
    "            raise RuntimeError(\"invalid move since it's not a row/col/diagno of your last move\")\n",
    "            \n",
    "        newBoard = deepcopy(self)\n",
    "        newBoard.hasBeenTaken.append(move)\n",
    "        if(newBoard.whetherPlay1Turn):\n",
    "            newBoard.active[\"O\"].append(move)\n",
    "            newBoard.whetherPlay1Turn = False\n",
    "        else:\n",
    "            newBoard.active[\"X\"].append(move)\n",
    "            newBoard.whetherPlay1Turn = True\n",
    "        return newBoard\n"
   ]
  },
  {
   "cell_type": "code",
   "execution_count": 5,
   "metadata": {},
   "outputs": [
    {
     "name": "stdout",
     "output_type": "stream",
     "text": [
      "play 1 move to (0,0), for play 2 whose legal moves will be [(0, 1), (0, 2), (0, 3), (0, 4), (0, 5), (0, 6), (0, 7), (0, 8), (0, 9), (1, 0), (1, 1), (1, 2), (1, 3), (1, 4), (1, 5), (1, 6), (1, 7), (1, 8), (1, 9), (2, 0), (2, 1), (2, 2), (2, 3), (2, 4), (2, 5), (2, 6), (2, 7), (2, 8), (2, 9), (3, 0), (3, 1), (3, 2), (3, 3), (3, 4), (3, 5), (3, 6), (3, 7), (3, 8), (3, 9), (4, 0), (4, 1), (4, 2), (4, 3), (4, 4), (4, 5), (4, 6), (4, 7), (4, 8), (4, 9), (5, 0), (5, 1), (5, 2), (5, 3), (5, 4), (5, 5), (5, 6), (5, 7), (5, 8), (5, 9), (6, 0), (6, 1), (6, 2), (6, 3), (6, 4), (6, 5), (6, 6), (6, 7), (6, 8), (6, 9), (7, 0), (7, 1), (7, 2), (7, 3), (7, 4), (7, 5), (7, 6), (7, 7), (7, 8), (7, 9), (8, 0), (8, 1), (8, 2), (8, 3), (8, 4), (8, 5), (8, 6), (8, 7), (8, 8), (8, 9), (9, 0), (9, 1), (9, 2), (9, 3), (9, 4), (9, 5), (9, 6), (9, 7), (9, 8)]\n",
      "-------------------================\n",
      "play 2 move to (1,0), for play 1 whose legal moves will be [(0, 1), (0, 2), (0, 3), (0, 4), (0, 5), (0, 6), (0, 7), (0, 8), (0, 9), (1, 1), (2, 2), (3, 3), (4, 4), (5, 5), (6, 6), (7, 7), (8, 8)]\n",
      "play 2 move to (2,2), for play 1 whose legal moves will be [(2, 0), (3, 0), (4, 0), (5, 0), (6, 0), (7, 0), (8, 0), (9, 0), (1, 1), (1, 2), (1, 3), (1, 4), (1, 5), (1, 6), (1, 7), (1, 8), (1, 9), (2, 1), (3, 2), (4, 3), (5, 4), (6, 5), (7, 6), (8, 7), (9, 8), (0, 1)]\n"
     ]
    }
   ],
   "source": [
    "g = GameState()\n",
    "\n",
    "p1_empty_moves = g.get_legal_moves()\n",
    "\n",
    "g1 = g.forecast_move((0, 0))\n",
    "\n",
    "p2_empty_moves = g1.get_legal_moves()\n",
    "print('play 1 move to (0,0), for play 2 whose legal moves will be', p2_empty_moves)\n",
    "print(\"-------------------================\")\n",
    "\n",
    "\n",
    "g2 = g1.forecast_move((1,0))\n",
    "p1_empty_moves = g2.get_legal_moves()\n",
    "print('play 2 move to (1,0), for play 1 whose legal moves will be', p1_empty_moves)\n",
    "\n",
    "g1 = g2.forecast_move((5,5))\n",
    "p2_empty_moves = g1.get_legal_moves()\n",
    "print('play 2 move to (2,2), for play 1 whose legal moves will be', p2_empty_moves)\n",
    "\n"
   ]
  },
  {
   "cell_type": "code",
   "execution_count": 210,
   "metadata": {},
   "outputs": [
    {
     "data": {
      "text/plain": [
       "[(0, 0),\n",
       " (0, 1),\n",
       " (0, 2),\n",
       " (0, 3),\n",
       " (1, 0),\n",
       " (1, 1),\n",
       " (1, 2),\n",
       " (1, 3),\n",
       " (2, 0),\n",
       " (2, 1),\n",
       " (2, 2),\n",
       " (2, 3),\n",
       " (3, 0),\n",
       " (3, 1),\n",
       " (3, 2)]"
      ]
     },
     "execution_count": 210,
     "metadata": {},
     "output_type": "execute_result"
    }
   ],
   "source": [
    "g2.board"
   ]
  },
  {
   "cell_type": "code",
   "execution_count": 139,
   "metadata": {},
   "outputs": [
    {
     "name": "stdout",
     "output_type": "stream",
     "text": [
      "Creating empty game board...\n",
      "Getting legal moves for player 1...\n",
      "[(0, 0), (0, 1), (0, 2), (0, 3), (1, 0), (1, 1), (1, 2), (1, 3), (2, 0), (2, 1), (2, 2), (2, 3), (3, 0), (3, 1), (3, 2)]\n",
      "Found 15 legal moves.\n",
      "Applying move (0, 0) for player 1...\n"
     ]
    }
   ],
   "source": [
    "print(\"Creating empty game board...\")\n",
    "g = GameState()\n",
    "\n",
    "print(\"Getting legal moves for player 1...\")\n",
    "p1_empty_moves = g.get_legal_moves()\n",
    "print(p1_empty_moves)\n",
    "print(\"Found {} legal moves.\".format(len(p1_empty_moves or [])))\n",
    "\n",
    "print(\"Applying move (0, 0) for player 1...\")\n",
    "g1 = g.forecast_move((0, 0))\n"
   ]
  },
  {
   "cell_type": "code",
   "execution_count": 133,
   "metadata": {},
   "outputs": [
    {
     "data": {
      "text/plain": [
       "[1, 2, [3]]"
      ]
     },
     "execution_count": 133,
     "metadata": {},
     "output_type": "execute_result"
    }
   ],
   "source": [
    "aa = [1,2]\n",
    "bb = [3]\n",
    "\n",
    "aa.append(bb)\n",
    "aa"
   ]
  },
  {
   "cell_type": "code",
   "execution_count": 54,
   "metadata": {},
   "outputs": [
    {
     "name": "stdout",
     "output_type": "stream",
     "text": [
      "[[0, 0], [0, 0], [0, 0]]\n",
      "[[0, 0], [0, 0], [0, 1]]\n"
     ]
    }
   ],
   "source": [
    "xlim, ylim = 3, 2 \n",
    "ss = [[0] * ylim for _ in range(xlim)]\n",
    "print(ss)\n",
    "ss[-1][-1] = 1\n",
    "print(ss)"
   ]
  },
  {
   "cell_type": "code",
   "execution_count": null,
   "metadata": {},
   "outputs": [],
   "source": []
  }
 ],
 "metadata": {
  "kernelspec": {
   "display_name": "Python [default]",
   "language": "python",
   "name": "python3"
  },
  "language_info": {
   "codemirror_mode": {
    "name": "ipython",
    "version": 3
   },
   "file_extension": ".py",
   "mimetype": "text/x-python",
   "name": "python",
   "nbconvert_exporter": "python",
   "pygments_lexer": "ipython3",
   "version": "3.5.4"
  }
 },
 "nbformat": 4,
 "nbformat_minor": 2
}
