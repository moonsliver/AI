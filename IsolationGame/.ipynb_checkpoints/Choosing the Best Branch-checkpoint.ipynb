{
 "cells": [
  {
   "cell_type": "code",
   "execution_count": 117,
   "metadata": {},
   "outputs": [],
   "source": [
    "from copy import deepcopy\n",
    "\n",
    "xlim, ylim = 3, 3  # board dimensions\n",
    "\n",
    "class GameState:\n",
    "    \"\"\"\n",
    "    Attributes\n",
    "    ----------\n",
    "    _board: list(list)\n",
    "        Represent the board with a 2d array _board[x][y]\n",
    "        where open spaces are 0 and closed spaces are 1\n",
    "    \n",
    "    _parity: bool\n",
    "        Keep track of active player initiative (which\n",
    "        player has control to move) where 0 indicates that\n",
    "        player one has initiative and 1 indicates player 2\n",
    "    \n",
    "    _player_locations: list(tuple)\n",
    "        Keep track of the current location of each player\n",
    "        on the board where position is encoded by the\n",
    "        board indices of their last move, e.g., [(0, 0), (1, 0)]\n",
    "        means player 1 is at (0, 0) and player 2 is at (1, 0)\n",
    "    \n",
    "    \"\"\"\n",
    "\n",
    "    def __init__(self):\n",
    "        self._board = [[0] * ylim for _ in range(xlim)]\n",
    "        self._board[-1][-1] = 1  # block lower-right corner\n",
    "        self._parity = 0\n",
    "        self._player_locations = [None, None]\n",
    "\n",
    "    def forecast_move(self, move):\n",
    "        \"\"\" Return a new board object with the specified move\n",
    "        applied to the current game state.\n",
    "        \n",
    "        Parameters\n",
    "        ----------\n",
    "        move: tuple\n",
    "            The target position for the active player's next move\n",
    "        \"\"\"\n",
    "        if move not in self.get_legal_moves():\n",
    "            raise RuntimeError(\"Attempted forecast of illegal move\")\n",
    "        newBoard = deepcopy(self)\n",
    "        newBoard._board[move[0]][move[1]] = 1\n",
    "        newBoard._player_locations[self._parity] = move\n",
    "        newBoard._parity ^= 1\n",
    "        return newBoard\n",
    "\n",
    "    def get_legal_moves(self):\n",
    "        \"\"\" Return a list of all legal moves available to the\n",
    "        active player.  Each player should get a list of all\n",
    "        empty spaces on the board on their first move, and\n",
    "        otherwise they should get a list of all open spaces\n",
    "        in a straight line along any row, column or diagonal\n",
    "        from their current position. (Players CANNOT move\n",
    "        through obstacles or blocked squares.) Moves should\n",
    "        be a pair of integers in (column, row) order specifying\n",
    "        the zero-indexed coordinates on the board.\n",
    "        \"\"\"\n",
    "        loc = self._player_locations[self._parity]\n",
    "        if not loc:\n",
    "            return self._get_blank_spaces()\n",
    "        moves = []\n",
    "        rays = [(1, 0), (1, -1), (0, -1), (-1, -1),\n",
    "                (-1, 0), (-1, 1), (0, 1), (1, 1)]\n",
    "        for dx, dy in rays:\n",
    "            _x, _y = loc\n",
    "            while 0 <= _x + dx < xlim and 0 <= _y + dy < ylim:\n",
    "                _x, _y = _x + dx, _y + dy\n",
    "                if self._board[_x][_y]:\n",
    "                    break\n",
    "                moves.append((_x, _y))\n",
    "        return moves\n",
    "\n",
    "    def _get_blank_spaces(self):\n",
    "        \"\"\" Return a list of blank spaces on the board.\"\"\"\n",
    "        return [(x, y) for y in range(ylim) for x in range(xlim)\n",
    "                if self._board[x][y] == 0]\n"
   ]
  },
  {
   "cell_type": "code",
   "execution_count": 118,
   "metadata": {},
   "outputs": [],
   "source": [
    "def terminal_test(gameState):\n",
    "    \"\"\" Return True if the game is over for the active player\n",
    "    and False otherwise.\n",
    "    \"\"\"\n",
    "   \n",
    "    return not bool(gameState.get_legal_moves())  # by Assumption 1\n",
    "\n",
    "\n",
    "def min_value(gameState):\n",
    "    \"\"\" Return the value for a win (+1) if the game is over,\n",
    "    otherwise return the minimum value over all legal child\n",
    "    nodes.\n",
    "    \"\"\"\n",
    "    if terminal_test(gameState):\n",
    "        #print(\"hit end with 1\")\n",
    "        #print(\"##########\")\n",
    "        return 1  # by Assumption 2\n",
    "    v = float(\"inf\")\n",
    "    #print(\"Here is the min_value fun\",gameState.get_legal_moves())\n",
    "    for m in gameState.get_legal_moves():\n",
    "        #print(\"min_value fun move\",m)\n",
    "        v = min(v, max_value(gameState.forecast_move(m)))\n",
    "    return v\n",
    "\n",
    "\n",
    "def max_value(gameState):\n",
    "    \"\"\" Return the value for a loss (-1) if the game is over,\n",
    "    otherwise return the maximum value over all legal child\n",
    "    nodes.\n",
    "    \"\"\"\n",
    "    if terminal_test(gameState):\n",
    "        #print(\"hit end with -1\")\n",
    "        #print(\"##########\")\n",
    "        return -1  # by assumption 2\n",
    "    v = float(\"-inf\")\n",
    "    #print(\"Here is the max_value fun\",gameState.get_legal_moves())\n",
    "    for m in gameState.get_legal_moves():\n",
    "        #print(\"max_value fun move\",m)\n",
    "        v = max(v, min_value(gameState.forecast_move(m)))\n",
    "    return v\n"
   ]
  },
  {
   "cell_type": "code",
   "execution_count": 125,
   "metadata": {},
   "outputs": [],
   "source": [
    "def minimax_decision(gameState):\n",
    "    \"\"\" Return the move along a branch of the game tree that\n",
    "    has the best possible value.  A move is a pair of coordinates\n",
    "    in (column, row) order corresponding to a legal move for\n",
    "    the searching player.\n",
    "    \n",
    "    You can ignore the special case of calling this function\n",
    "    from a terminal state.\n",
    "    \"\"\"\n",
    "    '''\n",
    "    # TODO: Finish this function!\n",
    "    bestMoves = []\n",
    "    v = float(\"-inf\")\n",
    "    scors = []\n",
    "    if(len(gameState.get_legal_moves()) == 0):\n",
    "        print(\"Game End!\")\n",
    "    for m in gameState.get_legal_moves():\n",
    "        validMove = gameState.forecast_move(m)\n",
    "        print(\"=========================\")\n",
    "        print(\"now is try box\",m)\n",
    "        v = min_value(validMove)\n",
    "        print(\"Here is the final result of the M: \",v)\n",
    "    \n",
    "    return gameState\n",
    "    \n",
    "    return max(gameState.get_legal_moves(),\n",
    "               key=lambda m: min_value(gameState.forecast_move(m)))\n",
    "               '''\n",
    "    best_score = float(\"-inf\")\n",
    "    best_move = None\n",
    "    for m in gameState.get_legal_moves():\n",
    "        v = min_value(gameState.forecast_move(m))\n",
    "        if v > best_score:\n",
    "            best_score = v\n",
    "            best_move = m\n",
    "    print(\"the best move is :\", best_move , \"which score is :\" , best_score)\n",
    "    return gameState"
   ]
  },
  {
   "cell_type": "code",
   "execution_count": 126,
   "metadata": {},
   "outputs": [
    {
     "name": "stdout",
     "output_type": "stream",
     "text": [
      "the best move is : (0, 0) which score is : -1\n",
      "******************************************\n",
      "the best move is : (1, 1) which score is : 1\n"
     ]
    },
    {
     "data": {
      "text/plain": [
       "'\\nplay1 = play2.forecast_move((1,0))\\nprint(\"******************************************\")\\nplay1 = minimax_decision(play1)\\nplay2 = play1.forecast_move((1,1))\\nprint(\"******************************************\")\\nplay2 = minimax_decision(play2)\\nplay1 = play2.forecast_move((2,0))\\nprint(\"******************************************\")\\nplay1 = minimax_decision(play1)\\nplay2 = play1.forecast_move((0,1))\\nprint(\"******************************************\")\\nplay2 = minimax_decision(play2)\\n'"
      ]
     },
     "execution_count": 126,
     "metadata": {},
     "output_type": "execute_result"
    }
   ],
   "source": [
    "rootNode = GameState()\n",
    "play1 = minimax_decision(rootNode)\n",
    "\n",
    "\n",
    "play2 = play1.forecast_move((0,0))\n",
    "print(\"******************************************\")\n",
    "play2 = minimax_decision(play2)\n",
    "'''\n",
    "play1 = play2.forecast_move((1,0))\n",
    "print(\"******************************************\")\n",
    "play1 = minimax_decision(play1)\n",
    "play2 = play1.forecast_move((1,1))\n",
    "print(\"******************************************\")\n",
    "play2 = minimax_decision(play2)\n",
    "play1 = play2.forecast_move((2,0))\n",
    "print(\"******************************************\")\n",
    "play1 = minimax_decision(play1)\n",
    "play2 = play1.forecast_move((0,1))\n",
    "print(\"******************************************\")\n",
    "play2 = minimax_decision(play2)\n",
    "'''"
   ]
  },
  {
   "cell_type": "code",
   "execution_count": 89,
   "metadata": {},
   "outputs": [
    {
     "name": "stdout",
     "output_type": "stream",
     "text": [
      "Creating empty game board...\n",
      "Getting legal moves for player 1...\n",
      "Found {} legal moves. [(0, 0), (1, 0), (2, 0), (0, 1), (1, 1)]\n",
      "Applying move (0, 0) for player 1...\n",
      "Getting legal moves for player 2...\n",
      "Found {} legal moves. [(1, 0), (2, 0), (0, 1), (1, 1)]\n"
     ]
    }
   ],
   "source": [
    "print(\"Creating empty game board...\")\n",
    "g = GameState()\n",
    "\n",
    "print(\"Getting legal moves for player 1...\")\n",
    "p1_empty_moves = g.get_legal_moves()\n",
    "print(\"Found {} legal moves.\",p1_empty_moves)\n",
    "\n",
    "print(\"Applying move (0, 0) for player 1...\")\n",
    "g1 = g.forecast_move((0, 0))\n",
    "\n",
    "print(\"Getting legal moves for player 2...\")\n",
    "p2_empty_moves = g1.get_legal_moves()\n",
    "print(\"Found {} legal moves.\",p2_empty_moves)"
   ]
  },
  {
   "cell_type": "code",
   "execution_count": 12,
   "metadata": {},
   "outputs": [
    {
     "name": "stdout",
     "output_type": "stream",
     "text": [
      "Best move choices: [(0, 1), (2, 0), (0, 0)]\n",
      "Your code chose: -1\n",
      "Uh oh...looks like there may be a problem.\n"
     ]
    }
   ],
   "source": [
    "best_moves = set([(0, 0), (2, 0), (0, 1)])\n",
    "rootNode = GameState()\n",
    "minimax_move = minimax_decision(rootNode)\n",
    "\n",
    "print(\"Best move choices: {}\".format(list(best_moves)))\n",
    "print(\"Your code chose: {}\".format(minimax_move))\n",
    "\n",
    "if minimax_move in best_moves:\n",
    "    print(\"That's one of the best move choices. Looks like your minimax-decision function worked!\")\n",
    "else:\n",
    "    print(\"Uh oh...looks like there may be a problem.\")\n"
   ]
  },
  {
   "cell_type": "code",
   "execution_count": 53,
   "metadata": {},
   "outputs": [],
   "source": [
    "best_moves = set([(0, 0), (2, 0), (0, 1)])"
   ]
  },
  {
   "cell_type": "code",
   "execution_count": 54,
   "metadata": {},
   "outputs": [
    {
     "data": {
      "text/plain": [
       "{(0, 0), (0, 1), (2, 0)}"
      ]
     },
     "execution_count": 54,
     "metadata": {},
     "output_type": "execute_result"
    }
   ],
   "source": [
    "best_moves"
   ]
  },
  {
   "cell_type": "code",
   "execution_count": 55,
   "metadata": {},
   "outputs": [
    {
     "data": {
      "text/plain": [
       "True"
      ]
     },
     "execution_count": 55,
     "metadata": {},
     "output_type": "execute_result"
    }
   ],
   "source": [
    "minimax_move in best_moves"
   ]
  },
  {
   "cell_type": "code",
   "execution_count": null,
   "metadata": {},
   "outputs": [],
   "source": []
  }
 ],
 "metadata": {
  "kernelspec": {
   "display_name": "Python 3",
   "language": "python",
   "name": "python3"
  },
  "language_info": {
   "codemirror_mode": {
    "name": "ipython",
    "version": 3
   },
   "file_extension": ".py",
   "mimetype": "text/x-python",
   "name": "python",
   "nbconvert_exporter": "python",
   "pygments_lexer": "ipython3",
   "version": "3.6.4"
  }
 },
 "nbformat": 4,
 "nbformat_minor": 2
}
